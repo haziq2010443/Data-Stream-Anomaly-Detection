{
 "cells": [
  {
   "cell_type": "markdown",
   "id": "fa425b9e-161d-45e9-90cd-7a26e326ddd3",
   "metadata": {},
   "source": [
    "# Efficient Data Stream Anomaly Detection"
   ]
  },
  {
   "cell_type": "markdown",
   "id": "f7f9c62d-c8c8-444f-9b29-21f8193a2d91",
   "metadata": {},
   "source": [
    "Python script capable of detecting anomalies in a continuous data stream. This stream, simulating real-time sequences of floating numbers, could represent various metrics such as financial transaction or system metrics. Focus will be on identifying unusual patterns, such as exceptionally high values or deviation from the norm."
   ]
  },
  {
   "cell_type": "markdown",
   "id": "901e4db4-18e4-49af-a9f4-36145f32976b",
   "metadata": {},
   "source": [
    "## Git command"
   ]
  },
  {
   "cell_type": "code",
   "execution_count": 7,
   "id": "8f7bb2d5-0468-4307-ae4d-f091ab8461fc",
   "metadata": {},
   "outputs": [],
   "source": [
    "#init git everytime running script\n",
    "#!git init \n",
    "\n",
    "#connect to remote github repository using url\n",
    "#!git remote add origin https://github.com/haziq2010443/Data-Stream-Anomaly-Detection.git\n",
    "\n",
    "#commit changes with message\n",
    "#!git commit -m \"Try First Commit with Jupyter Notebook\"\n",
    "\n",
    "#push changes to remote repository on master branch\n",
    "#!git push -u origin master\n",
    "\n",
    "#pull recent changes to jupyter notebook\n",
    "#!git pull"
   ]
  },
  {
   "cell_type": "markdown",
   "id": "223b08a2-da7a-4551-99a1-91c60ff2fe3d",
   "metadata": {},
   "source": [
    "## Simulating a Real-Time Data Stream"
   ]
  },
  {
   "cell_type": "markdown",
   "id": "95774abb-e968-42a3-bc0d-67a7eec28f7c",
   "metadata": {},
   "source": [
    "### Import Necessary Libraries"
   ]
  },
  {
   "cell_type": "code",
   "execution_count": 9,
   "id": "4a47c811-c72c-4bb5-9f1b-5b7f9f73db80",
   "metadata": {},
   "outputs": [
    {
     "ename": "ModuleNotFoundError",
     "evalue": "No module named 'numpy'",
     "output_type": "error",
     "traceback": [
      "\u001b[1;31m---------------------------------------------------------------------------\u001b[0m",
      "\u001b[1;31mModuleNotFoundError\u001b[0m                       Traceback (most recent call last)",
      "Cell \u001b[1;32mIn[9], line 1\u001b[0m\n\u001b[1;32m----> 1\u001b[0m \u001b[38;5;28;01mimport\u001b[39;00m \u001b[38;5;21;01mnumpy\u001b[39;00m \u001b[38;5;28;01mas\u001b[39;00m \u001b[38;5;21;01mnp\u001b[39;00m\n",
      "\u001b[1;31mModuleNotFoundError\u001b[0m: No module named 'numpy'"
     ]
    }
   ],
   "source": [
    "import numpy as np"
   ]
  },
  {
   "cell_type": "code",
   "execution_count": null,
   "id": "d00bffbb-a2b8-4cb4-8e89-f10b03aaae08",
   "metadata": {},
   "outputs": [],
   "source": []
  }
 ],
 "metadata": {
  "kernelspec": {
   "display_name": "Python 3 (ipykernel)",
   "language": "python",
   "name": "python3"
  },
  "language_info": {
   "codemirror_mode": {
    "name": "ipython",
    "version": 3
   },
   "file_extension": ".py",
   "mimetype": "text/x-python",
   "name": "python",
   "nbconvert_exporter": "python",
   "pygments_lexer": "ipython3",
   "version": "3.12.7"
  }
 },
 "nbformat": 4,
 "nbformat_minor": 5
}
