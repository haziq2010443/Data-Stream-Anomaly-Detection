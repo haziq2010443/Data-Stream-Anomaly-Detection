{
 "cells": [
  {
   "cell_type": "markdown",
   "id": "fa425b9e-161d-45e9-90cd-7a26e326ddd3",
   "metadata": {},
   "source": [
    "# Efficient Data Stream Anomaly Detection"
   ]
  },
  {
   "cell_type": "markdown",
   "id": "f7f9c62d-c8c8-444f-9b29-21f8193a2d91",
   "metadata": {},
   "source": [
    "Python script capable of detecting anomalies in a continuous data stream. This stream, simulating real-time sequences of floating numbers, could represent various metrics such as financial transaction or system metrics. Focus will be on identifying unusual patterns, such as exceptionally high values or deviation from the norm."
   ]
  },
  {
   "cell_type": "code",
   "execution_count": 1,
   "id": "8f7bb2d5-0468-4307-ae4d-f091ab8461fc",
   "metadata": {},
   "outputs": [
    {
     "name": "stdout",
     "output_type": "stream",
     "text": [
      "Initialized empty Git repository in D:/anaconda3/envs/ml_projects/ipnyb-src/.git/\n"
     ]
    },
    {
     "name": "stderr",
     "output_type": "stream",
     "text": [
      "hint: Using 'master' as the name for the initial branch. This default branch name\n",
      "hint: is subject to change. To configure the initial branch name to use in all\n",
      "hint: of your new repositories, which will suppress this warning, call:\n",
      "hint:\n",
      "hint: \tgit config --global init.defaultBranch <name>\n",
      "hint:\n",
      "hint: Names commonly chosen instead of 'master' are 'main', 'trunk' and\n",
      "hint: 'development'. The just-created branch can be renamed via this command:\n",
      "hint:\n",
      "hint: \tgit branch -m <name>\n"
     ]
    }
   ],
   "source": [
    "!git init"
   ]
  },
  {
   "cell_type": "code",
   "execution_count": 2,
   "id": "2d8cf207-d688-42d3-8ccb-a9961a4425d7",
   "metadata": {},
   "outputs": [],
   "source": [
    "!git remote add origin https://github.com/haziq2010443/Data-Stream-Anomaly-Detection.git"
   ]
  },
  {
   "cell_type": "code",
   "execution_count": null,
   "id": "0a323f72-274d-4114-88ee-f6d99f1943b4",
   "metadata": {},
   "outputs": [],
   "source": []
  }
 ],
 "metadata": {
  "kernelspec": {
   "display_name": "Python 3 (ipykernel)",
   "language": "python",
   "name": "python3"
  },
  "language_info": {
   "codemirror_mode": {
    "name": "ipython",
    "version": 3
   },
   "file_extension": ".py",
   "mimetype": "text/x-python",
   "name": "python",
   "nbconvert_exporter": "python",
   "pygments_lexer": "ipython3",
   "version": "3.12.7"
  }
 },
 "nbformat": 4,
 "nbformat_minor": 5
}
