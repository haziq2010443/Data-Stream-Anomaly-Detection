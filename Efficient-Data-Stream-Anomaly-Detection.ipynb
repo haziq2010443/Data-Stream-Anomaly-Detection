{
 "cells": [
  {
   "cell_type": "markdown",
   "id": "fa425b9e-161d-45e9-90cd-7a26e326ddd3",
   "metadata": {},
   "source": [
    "# Efficient Data Stream Anomaly Detection"
   ]
  },
  {
   "cell_type": "markdown",
   "id": "f7f9c62d-c8c8-444f-9b29-21f8193a2d91",
   "metadata": {},
   "source": [
    "Python script capable of detecting anomalies in a continuous data stream. This stream, simulating real-time sequences of floating numbers, could represent various metrics such as financial transaction or system metrics. Focus will be on identifying unusual patterns, such as exceptionally high values or deviation from the norm."
   ]
  },
  {
   "cell_type": "code",
   "execution_count": 1,
   "id": "8f7bb2d5-0468-4307-ae4d-f091ab8461fc",
   "metadata": {},
   "outputs": [
    {
     "name": "stdout",
     "output_type": "stream",
     "text": [
      "Initialized empty Git repository in D:/anaconda3/envs/ml_projects/ipnyb-src/.git/\n"
     ]
    },
    {
     "name": "stderr",
     "output_type": "stream",
     "text": [
      "hint: Using 'master' as the name for the initial branch. This default branch name\n",
      "hint: is subject to change. To configure the initial branch name to use in all\n",
      "hint: of your new repositories, which will suppress this warning, call:\n",
      "hint:\n",
      "hint: \tgit config --global init.defaultBranch <name>\n",
      "hint:\n",
      "hint: Names commonly chosen instead of 'master' are 'main', 'trunk' and\n",
      "hint: 'development'. The just-created branch can be renamed via this command:\n",
      "hint:\n",
      "hint: \tgit branch -m <name>\n"
     ]
    }
   ],
   "source": [
    "!git init"
   ]
  },
  {
   "cell_type": "code",
   "execution_count": 2,
   "id": "2d8cf207-d688-42d3-8ccb-a9961a4425d7",
   "metadata": {},
   "outputs": [],
   "source": [
    "!git remote add origin https://github.com/haziq2010443/Data-Stream-Anomaly-Detection.git"
   ]
  },
  {
   "cell_type": "code",
   "execution_count": 3,
   "id": "0a323f72-274d-4114-88ee-f6d99f1943b4",
   "metadata": {},
   "outputs": [
    {
     "name": "stdout",
     "output_type": "stream",
     "text": [
      "On branch master\n",
      "\n",
      "Initial commit\n",
      "\n",
      "Untracked files:\n",
      "  (use \"git add <file>...\" to include in what will be committed)\n",
      "\t.ipynb_checkpoints/\n",
      "\tEfficient-Data-Stream-Anomaly-Detection.ipynb\n",
      "\n",
      "nothing added to commit but untracked files present (use \"git add\" to track)\n"
     ]
    }
   ],
   "source": [
    "!git commit -m \"Try First Commit with Jupyter\""
   ]
  },
  {
   "cell_type": "code",
   "execution_count": 4,
   "id": "8deb034f-99f3-4a69-ad63-e40e2eebc4d0",
   "metadata": {},
   "outputs": [
    {
     "name": "stderr",
     "output_type": "stream",
     "text": [
      "warning: in the working copy of '.ipynb_checkpoints/Efficient-Data-Stream-Anomaly-Detection-checkpoint.ipynb', LF will be replaced by CRLF the next time Git touches it\n",
      "warning: in the working copy of 'Efficient-Data-Stream-Anomaly-Detection.ipynb', LF will be replaced by CRLF the next time Git touches it\n"
     ]
    }
   ],
   "source": []
  },
  {
   "cell_type": "code",
   "execution_count": 5,
   "id": "e19aa1cb-a2de-4082-8236-caa066e8bc5e",
   "metadata": {},
   "outputs": [
    {
     "name": "stdout",
     "output_type": "stream",
     "text": [
      "[master (root-commit) 37fc909] Try First Commit with Jupyter Notebook\n",
      " 2 files changed, 99 insertions(+)\n",
      " create mode 100644 .ipynb_checkpoints/Efficient-Data-Stream-Anomaly-Detection-checkpoint.ipynb\n",
      " create mode 100644 Efficient-Data-Stream-Anomaly-Detection.ipynb\n"
     ]
    }
   ],
   "source": []
  },
  {
   "cell_type": "code",
   "execution_count": 7,
   "id": "3986bffc-61be-425f-a874-44746893cfed",
   "metadata": {},
   "outputs": [
    {
     "name": "stderr",
     "output_type": "stream",
     "text": [
      "error: src refspec main does not match any\n",
      "error: failed to push some refs to 'https://github.com/haziq2010443/Data-Stream-Anomaly-Detection.git'\n"
     ]
    }
   ],
   "source": [
    "!git push -u origin main"
   ]
  },
  {
   "cell_type": "code",
   "execution_count": 8,
   "id": "de9272af-d2fd-4327-ae92-7a4f0f36e982",
   "metadata": {},
   "outputs": [
    {
     "name": "stdout",
     "output_type": "stream",
     "text": [
      "branch 'master' set up to track 'origin/master'.\n"
     ]
    },
    {
     "name": "stderr",
     "output_type": "stream",
     "text": [
      "Everything up-to-date\n"
     ]
    }
   ],
   "source": []
  },
  {
   "cell_type": "code",
   "execution_count": 9,
   "id": "b548cfca-d180-4668-8bfc-5bfe7563cbde",
   "metadata": {},
   "outputs": [
    {
     "name": "stderr",
     "output_type": "stream",
     "text": [
      "warning: in the working copy of 'Efficient-Data-Stream-Anomaly-Detection.ipynb', LF will be replaced by CRLF the next time Git touches it\n"
     ]
    }
   ],
   "source": [
    "!git add .\n",
    "!git commit -m \"Try First Commit with Jupyter Notebook\"\n",
    "!git push -u origin main"
   ]
  },
  {
   "cell_type": "code",
   "execution_count": null,
   "id": "88ee5711-bd58-402b-badb-cebe97008706",
   "metadata": {},
   "outputs": [],
   "source": []
  }
 ],
 "metadata": {
  "kernelspec": {
   "display_name": "Python 3 (ipykernel)",
   "language": "python",
   "name": "python3"
  },
  "language_info": {
   "codemirror_mode": {
    "name": "ipython",
    "version": 3
   },
   "file_extension": ".py",
   "mimetype": "text/x-python",
   "name": "python",
   "nbconvert_exporter": "python",
   "pygments_lexer": "ipython3",
   "version": "3.12.7"
  }
 },
 "nbformat": 4,
 "nbformat_minor": 5
}
